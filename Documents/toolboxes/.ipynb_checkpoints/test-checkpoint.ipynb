{
 "cells": [
  {
   "cell_type": "code",
   "execution_count": null,
   "metadata": {},
   "outputs": [],
   "source": [
    "# -*- coding: utf-8 -*-\n",
    "\"\"\"\n",
    "Created on Mon Jun 17 15:38:28 2019\n",
    "\n",
    "@author: Jeremy\n",
    "\"\"\"\n",
    "\n",
    "# -*- coding: utf-8 -*-\n",
    "\"\"\"\n",
    "Created on Fri Jun 14 14:42:08 2019\n",
    "\n",
    "@author: Jeremy\n",
    "\"\"\""
   ]
  },
  {
   "cell_type": "code",
   "execution_count": 3,
   "metadata": {},
   "outputs": [
    {
     "ename": "ModuleNotFoundError",
     "evalue": "No module named 'comparator'",
     "output_type": "error",
     "traceback": [
      "\u001b[1;31m---------------------------------------------------------------------------\u001b[0m",
      "\u001b[1;31mModuleNotFoundError\u001b[0m                       Traceback (most recent call last)",
      "\u001b[1;32m<ipython-input-3-aa00f1dd2737>\u001b[0m in \u001b[0;36m<module>\u001b[1;34m\u001b[0m\n\u001b[0;32m      9\u001b[0m \u001b[1;32mfrom\u001b[0m \u001b[0mtensorflow\u001b[0m\u001b[1;33m.\u001b[0m\u001b[0mkeras\u001b[0m\u001b[1;33m.\u001b[0m\u001b[0mlayers\u001b[0m \u001b[1;32mimport\u001b[0m \u001b[0mDense\u001b[0m\u001b[1;33m\u001b[0m\u001b[1;33m\u001b[0m\u001b[0m\n\u001b[0;32m     10\u001b[0m \u001b[1;33m\u001b[0m\u001b[0m\n\u001b[1;32m---> 11\u001b[1;33m \u001b[1;32mimport\u001b[0m \u001b[0mcomparator\u001b[0m \u001b[1;32mas\u001b[0m \u001b[0mcmp\u001b[0m\u001b[1;33m\u001b[0m\u001b[1;33m\u001b[0m\u001b[0m\n\u001b[0m\u001b[0;32m     12\u001b[0m \u001b[1;32mimport\u001b[0m \u001b[0mdataManager\u001b[0m \u001b[1;32mas\u001b[0m \u001b[0mdm\u001b[0m\u001b[1;33m\u001b[0m\u001b[1;33m\u001b[0m\u001b[0m\n\u001b[0;32m     13\u001b[0m \u001b[1;32mfrom\u001b[0m \u001b[0mrobustRegressor\u001b[0m \u001b[1;32mimport\u001b[0m \u001b[0mRobustRegressor\u001b[0m\u001b[1;33m\u001b[0m\u001b[1;33m\u001b[0m\u001b[0m\n",
      "\u001b[1;31mModuleNotFoundError\u001b[0m: No module named 'comparator'"
     ]
    }
   ],
   "source": [
    "from sklearn import datasets\n",
    "from sklearn.linear_model import LinearRegression\n",
    "from sklearn.kernel_ridge import KernelRidge\n",
    "from sklearn.ensemble import RandomForestRegressor\n",
    "from sklearn.gaussian_process import GaussianProcessRegressor\n",
    "from sklearn.gaussian_process.kernels import RBF, ConstantKernel\n",
    "\n",
    "from tensorflow.keras.models import Sequential\n",
    "from tensorflow.keras.layers import Dense\n",
    "\n",
    "import comparator as cmp\n",
    "import dataManager as dm\n",
    "from robustRegressor import RobustRegressor\n",
    "from dummyRegressor import DummyRegressor\n",
    "\n",
    "#parameters\n",
    "RDG_GAMMA = 3.0517578125e-05\n",
    "RDG_ALPHA = 0.00048828125\n",
    "NN_ACTIVATE = False\n",
    "NN_BATCH_SIZE = 30\n",
    "NN_EPOCHS = 500\n",
    "NN_PRINT = 0\n",
    "NORMALIZE = False\n",
    "GPkernel=  ConstantKernel(1.0, constant_value_bounds=\"fixed\") * RBF(1.0, length_scale_bounds=\"fixed\")"
   ]
  },
  {
   "cell_type": "code",
   "execution_count": 2,
   "metadata": {},
   "outputs": [
    {
     "ename": "ModuleNotFoundError",
     "evalue": "No module named 'comparator'",
     "output_type": "error",
     "traceback": [
      "\u001b[1;31m---------------------------------------------------------------------------\u001b[0m",
      "\u001b[1;31mModuleNotFoundError\u001b[0m                       Traceback (most recent call last)",
      "\u001b[1;32m<ipython-input-2-71f570bcb5e4>\u001b[0m in \u001b[0;36m<module>\u001b[1;34m\u001b[0m\n\u001b[1;32m----> 1\u001b[1;33m \u001b[1;32mfrom\u001b[0m \u001b[0mclassicalComparison\u001b[0m \u001b[1;32mimport\u001b[0m \u001b[0mdatasets\u001b[0m\u001b[1;33m\u001b[0m\u001b[1;33m\u001b[0m\u001b[0m\n\u001b[0m",
      "\u001b[1;32m~\\Documents\\toolboxes\\temp\\classicalComparison.py\u001b[0m in \u001b[0;36m<module>\u001b[1;34m\u001b[0m\n\u001b[0;32m     23\u001b[0m \u001b[1;32mfrom\u001b[0m \u001b[0mtensorflow\u001b[0m\u001b[1;33m.\u001b[0m\u001b[0mkeras\u001b[0m\u001b[1;33m.\u001b[0m\u001b[0mlayers\u001b[0m \u001b[1;32mimport\u001b[0m \u001b[0mDense\u001b[0m\u001b[1;33m\u001b[0m\u001b[1;33m\u001b[0m\u001b[0m\n\u001b[0;32m     24\u001b[0m \u001b[1;33m\u001b[0m\u001b[0m\n\u001b[1;32m---> 25\u001b[1;33m \u001b[1;32mimport\u001b[0m \u001b[0mcomparator\u001b[0m \u001b[1;32mas\u001b[0m \u001b[0mcmp\u001b[0m\u001b[1;33m\u001b[0m\u001b[1;33m\u001b[0m\u001b[0m\n\u001b[0m\u001b[0;32m     26\u001b[0m \u001b[1;32mimport\u001b[0m \u001b[0mdataManager\u001b[0m \u001b[1;32mas\u001b[0m \u001b[0mdm\u001b[0m\u001b[1;33m\u001b[0m\u001b[1;33m\u001b[0m\u001b[0m\n\u001b[0;32m     27\u001b[0m \u001b[1;32mfrom\u001b[0m \u001b[0mrobustRegressor\u001b[0m \u001b[1;32mimport\u001b[0m \u001b[0mRobustRegressor\u001b[0m\u001b[1;33m\u001b[0m\u001b[1;33m\u001b[0m\u001b[0m\n",
      "\u001b[1;31mModuleNotFoundError\u001b[0m: No module named 'comparator'"
     ]
    }
   ],
   "source": [
    "#comparaison\n",
    "data = dm.dataManager(dataSet = datasets.load_boston(), normalize_data = NORMALIZE)\n",
    "comp = cmp.ModelComparator(data)\n",
    "comp.addModel('dummy', DummyRegressor(strategy='mean', constant=None, quantile=None))\n",
    "comp.addModel('linearOLS', LinearRegression())\n",
    "comp.addModel('kernelRidge', KernelRidge(alpha = RDG_ALPHA, kernel = 'rbf', gamma = RDG_GAMMA))\n",
    "comp.addModel('randomForest', RandomForestRegressor(max_depth=20, n_estimators=80, random_state=2))\n",
    "comp.addModel('robustRegression', RobustRegressor(normalize = True, optim_method = 'COBYLA'))\n",
    "comp.addModel('GPRegression', GaussianProcessRegressor(kernel = GPkernel, alpha=RDG_ALPHA))\n",
    "\n",
    "#ShallowNN\n",
    "if NN_ACTIVATE is True :\n",
    "    snn = Sequential()\n",
    "    snn.add(Dense(units=30, kernel_initializer='normal', activation='relu',input_dim=13))\n",
    "    snn.add(Dense(units=10, kernel_initializer='normal', activation='relu'))\n",
    "    snn.add(Dense(1, kernel_initializer='normal'))  \n",
    "    \n",
    "    fitArgs = {'epochs': NN_EPOCHS, 'batch_size': NN_BATCH_SIZE, 'verbose': NN_PRINT}\n",
    "    snn.compile(loss='mean_squared_error', optimizer='adam')\n",
    "    comp.addModel(name = 'shallowNN', model = snn, fitting_arguments = fitArgs)\n",
    "\n",
    "# compare\n",
    "comp.fit()\n",
    "comp.evaluate()\n",
    "comp.crossValidation()\n",
    "#comp.print()"
   ]
  },
  {
   "cell_type": "code",
   "execution_count": null,
   "metadata": {},
   "outputs": [],
   "source": []
  }
 ],
 "metadata": {
  "kernelspec": {
   "display_name": "Python 3",
   "language": "python",
   "name": "python3"
  },
  "language_info": {
   "codemirror_mode": {
    "name": "ipython",
    "version": 3
   },
   "file_extension": ".py",
   "mimetype": "text/x-python",
   "name": "python",
   "nbconvert_exporter": "python",
   "pygments_lexer": "ipython3",
   "version": "3.7.3"
  }
 },
 "nbformat": 4,
 "nbformat_minor": 2
}
